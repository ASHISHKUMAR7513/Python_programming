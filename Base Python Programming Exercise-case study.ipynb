{
 "cells": [
  {
   "cell_type": "markdown",
   "metadata": {},
   "source": [
    "## Python Basic Programming Exercises"
   ]
  },
  {
   "cell_type": "raw",
   "metadata": {},
   "source": [
    "Q1: What is the output of following expression\n",
    "    5 + 4 * 9 % (3 + 1) / 6 - 1"
   ]
  },
  {
   "cell_type": "code",
   "execution_count": 1,
   "metadata": {},
   "outputs": [
    {
     "name": "stdout",
     "output_type": "stream",
     "text": [
      "4.0\n"
     ]
    }
   ],
   "source": [
    "O= 5+4*9%(3+1)/6-1\n",
    "print(O)"
   ]
  },
  {
   "cell_type": "raw",
   "metadata": {},
   "source": [
    "Q2: Write a program to check if a Number is Odd or Even. Take number as a input from user at runtime."
   ]
  },
  {
   "cell_type": "code",
   "execution_count": 2,
   "metadata": {},
   "outputs": [
    {
     "name": "stdout",
     "output_type": "stream",
     "text": [
      "Enter the num:25\n",
      "Odd Number\n"
     ]
    }
   ],
   "source": [
    "input_num= int(input('Enter the num:'))\n",
    "if input_num%2==0:\n",
    "    print('Even Number')\n",
    "else:\n",
    "    print('Odd Number')"
   ]
  },
  {
   "cell_type": "raw",
   "metadata": {},
   "source": [
    "Q3: Write a program to display the multiplication table by taking a number as input. \n",
    "    [Hint : Use print statement inside of a loop]"
   ]
  },
  {
   "cell_type": "code",
   "execution_count": 7,
   "metadata": {},
   "outputs": [
    {
     "name": "stdout",
     "output_type": "stream",
     "text": [
      "Enter the Num5\n",
      "5 * 1 = 5\n",
      "5 * 2 = 10\n",
      "5 * 3 = 15\n",
      "5 * 4 = 20\n",
      "5 * 5 = 25\n",
      "5 * 6 = 30\n",
      "5 * 7 = 35\n",
      "5 * 8 = 40\n",
      "5 * 9 = 45\n",
      "5 * 10 = 50\n"
     ]
    }
   ],
   "source": [
    "A= int(input('Enter the Num'))\n",
    "for i in range(1,11,1):\n",
    "    print(A, '*', i, '=', A*i)"
   ]
  },
  {
   "cell_type": "raw",
   "metadata": {},
   "source": [
    "Q4: Write a program which will find all numbers between 2000 and 3200 which are divisible by 7 \n",
    "    but are not a multiple of 5.\n",
    " \n",
    "Note: The numbers obtained should be printed in a comma-separated sequence on a single line."
   ]
  },
  {
   "cell_type": "code",
   "execution_count": 15,
   "metadata": {},
   "outputs": [
    {
     "name": "stdout",
     "output_type": "stream",
     "text": [
      "[2002, 2009, 2016, 2023, 2037, 2044, 2051, 2058, 2072, 2079, 2086, 2093, 2107, 2114, 2121, 2128, 2142, 2149, 2156, 2163, 2177, 2184, 2191, 2198, 2212, 2219, 2226, 2233, 2247, 2254, 2261, 2268, 2282, 2289, 2296, 2303, 2317, 2324, 2331, 2338, 2352, 2359, 2366, 2373, 2387, 2394, 2401, 2408, 2422, 2429, 2436, 2443, 2457, 2464, 2471, 2478, 2492, 2499, 2506, 2513, 2527, 2534, 2541, 2548, 2562, 2569, 2576, 2583, 2597, 2604, 2611, 2618, 2632, 2639, 2646, 2653, 2667, 2674, 2681, 2688, 2702, 2709, 2716, 2723, 2737, 2744, 2751, 2758, 2772, 2779, 2786, 2793, 2807, 2814, 2821, 2828, 2842, 2849, 2856, 2863, 2877, 2884, 2891, 2898, 2912, 2919, 2926, 2933, 2947, 2954, 2961, 2968, 2982, 2989, 2996, 3003, 3017, 3024, 3031, 3038, 3052, 3059, 3066, 3073, 3087, 3094, 3101, 3108, 3122, 3129, 3136, 3143, 3157, 3164, 3171, 3178, 3192, 3199]\n"
     ]
    }
   ],
   "source": [
    "print([i for i in range(2000,3201) if (i%7==0) and (i%5!=0)])"
   ]
  },
  {
   "cell_type": "raw",
   "metadata": {},
   "source": [
    "Q5: Count the elements of each datatype inside the list and display in output\n",
    "    [2, 3, 'Py', '10', 1, 'SQL', 5.5, True, 3, 'John', None, 7]    "
   ]
  },
  {
   "cell_type": "code",
   "execution_count": 17,
   "metadata": {},
   "outputs": [
    {
     "name": "stdout",
     "output_type": "stream",
     "text": [
      "float_count= 1\n",
      "int_count= 5\n",
      "str_count= 4\n",
      "bool_count= 1\n",
      "none_count= 1\n"
     ]
    }
   ],
   "source": [
    "list1 =[2,3,'Py','10',1,'SQL',5.5,True,3,'john',None,7]\n",
    "float_count=0\n",
    "int_count=0\n",
    "str_count=0\n",
    "bool_count=0\n",
    "none_count=0\n",
    "for i in list1:\n",
    "    if type(i)== float:\n",
    "        float_count= float_count+1\n",
    "    elif type(i)== int:\n",
    "        int_count= int_count+1\n",
    "    elif type(i)== str:\n",
    "        str_count= str_count+1\n",
    "    elif type(i)== bool:\n",
    "        bool_count= bool_count+1\n",
    "    else:\n",
    "        none_count= none_count+1\n",
    "print('float_count=',float_count)\n",
    "print('int_count=',int_count)\n",
    "print('str_count=',str_count)\n",
    "print('bool_count=',bool_count)\n",
    "print('none_count=',none_count)"
   ]
  },
  {
   "cell_type": "raw",
   "metadata": {},
   "source": [
    "Q6: Add all values from the list with numeric datatypes \n",
    "    [2, 3, 'Py', '10', 1, 'SQL', 5.5, True, 3, 'John', None, 7] "
   ]
  },
  {
   "cell_type": "code",
   "execution_count": 2,
   "metadata": {},
   "outputs": [
    {
     "name": "stdout",
     "output_type": "stream",
     "text": [
      "[2, 3, 'Py', '10', 1, 'SQL', 5.5, True, 3, 'John', None, 7]\n",
      "sum of numeric elements: 21.5\n"
     ]
    }
   ],
   "source": [
    "li=[2, 3, 'Py', '10', 1, 'SQL', 5.5, True, 3, 'John', None, 7]\n",
    "print(li)\n",
    "\n",
    "sum= 0\n",
    "\n",
    "for i in li:\n",
    "    if type(i)== int or type(i)== float:\n",
    "        sum= sum+i\n",
    "print('sum of numeric elements:', sum)"
   ]
  },
  {
   "cell_type": "raw",
   "metadata": {},
   "source": [
    "Q7: Concat all str datatypes with hyphen as a delimiter\n",
    "    [2, 3, 'Py', '10', 1, 'SQL', 5.5, True, 3, 'John', None, 7] "
   ]
  },
  {
   "cell_type": "code",
   "execution_count": 5,
   "metadata": {},
   "outputs": [
    {
     "name": "stdout",
     "output_type": "stream",
     "text": [
      "['Py', '10', 'SQL', 'John']\n",
      "concatinated strings: Py-10-SQL-John\n"
     ]
    }
   ],
   "source": [
    "l= [2,3,'Py','10',1, 'SQL',5.5, True,3, 'John',None,7]\n",
    "li=[]\n",
    "\n",
    "for i in l:\n",
    "    if type(i)== str:\n",
    "        li.append(i)\n",
    "print(li)\n",
    "print(\"concatinated strings:\",'-'.join(li))"
   ]
  },
  {
   "cell_type": "raw",
   "metadata": {},
   "source": [
    "Q8: Write a UDF that takes list as input and returns sum of all numbers \n",
    "    (exclude bool) and count of all str \n",
    "    [2, 3, 'Py', '10', 1, 'SQL', 5.5, True, 3, 'John', None, 7] \n",
    "    \n",
    "Hint:\n",
    "-----\n",
    "def my_func:\n",
    "    # your code\n",
    "        \n",
    "my_func(l1)\n",
    "# output --> {'Sum': xxx, 'Count_of_Strs': xxx}"
   ]
  },
  {
   "cell_type": "code",
   "execution_count": 15,
   "metadata": {},
   "outputs": [
    {
     "name": "stdout",
     "output_type": "stream",
     "text": [
      "{'sum': 21.5, 'count_of_str': 4}\n"
     ]
    }
   ],
   "source": [
    "l=[2,3,'Py','10',1,'SQL',5.5,True,3,'John',None,7]\n",
    "def q8(l):\n",
    "    sum1=0\n",
    "    count=0\n",
    "    d= {'sum':0, 'count_of_str': 0}\n",
    "    for i in l:\n",
    "        if type(i)in (int,float):\n",
    "            sum1= sum1+i\n",
    "            d['sum'] = sum1\n",
    "        elif type(i)== str:\n",
    "            count=count+1\n",
    "            d['count_of_str'] = count\n",
    "    print(d)\n",
    "\n",
    "q8(l)\n",
    "\n"
   ]
  },
  {
   "cell_type": "raw",
   "metadata": {},
   "source": [
    "Q9: Get only odd numbers from the following list and store the numbers in new list\n",
    "    li = [5, 7, 22, 97, 54, 62, 77, 23, 73, 61]\n",
    "\n",
    "    i. Use loops to get the answer\n",
    "   ii. Use list comprehensions\n",
    "  iii. Use lambda function with filter"
   ]
  },
  {
   "cell_type": "markdown",
   "metadata": {},
   "source": [
    "## using loops\n"
   ]
  },
  {
   "cell_type": "code",
   "execution_count": 1,
   "metadata": {},
   "outputs": [
    {
     "name": "stdout",
     "output_type": "stream",
     "text": [
      "[5, 7, 97, 77, 23, 73, 61]\n"
     ]
    }
   ],
   "source": [
    "li=[5,7,22,97,54,62,77,23,73,61]\n",
    "new_li=[]\n",
    "\n",
    "for i in li:\n",
    "    if i % 2 !=0:\n",
    "        new_li.append(i)\n",
    "        \n",
    "print(new_li)"
   ]
  },
  {
   "cell_type": "markdown",
   "metadata": {},
   "source": [
    "## using list comprehension\n"
   ]
  },
  {
   "cell_type": "code",
   "execution_count": 1,
   "metadata": {},
   "outputs": [
    {
     "data": {
      "text/plain": [
       "[5, 7, 97, 77, 23, 73, 61]"
      ]
     },
     "execution_count": 1,
     "metadata": {},
     "output_type": "execute_result"
    }
   ],
   "source": [
    "li=[5,7,22,97,54,62,77,23,73,61]\n",
    "\n",
    "[i for i in li if i%2 != 0]"
   ]
  },
  {
   "cell_type": "raw",
   "metadata": {},
   "source": [
    "##using lambda function\n"
   ]
  },
  {
   "cell_type": "code",
   "execution_count": 3,
   "metadata": {},
   "outputs": [
    {
     "data": {
      "text/plain": [
       "[5, 7, 97, 77, 23, 73, 61]"
      ]
     },
     "execution_count": 3,
     "metadata": {},
     "output_type": "execute_result"
    }
   ],
   "source": [
    "li=[5,7,22,97,54,62,77,23,73,61]\n",
    "\n",
    "list(filter(lambda i: i%2 != 0, li))"
   ]
  },
  {
   "cell_type": "raw",
   "metadata": {},
   "source": [
    "Q10: Write a UDF to return the descriptives [sum, count, min, mean, max] for a list of n number of input \n",
    "    numbers."
   ]
  },
  {
   "cell_type": "code",
   "execution_count": 4,
   "metadata": {},
   "outputs": [
    {
     "data": {
      "text/plain": [
       "(102, 6, 1, 17.0, 45)"
      ]
     },
     "execution_count": 4,
     "metadata": {},
     "output_type": "execute_result"
    }
   ],
   "source": [
    "l2 = [5,22,25,4,1,45]\n",
    "\n",
    "def q10(l2):\n",
    "    \n",
    "    add = sum(l2)\n",
    "    count= len(l2)\n",
    "    minimum= min(l2)\n",
    "    mean= sum(l2)/len(l2)\n",
    "    maximum= max(l2)\n",
    "    \n",
    "    return add,count,minimum,mean,maximum\n",
    "q10(l2)"
   ]
  },
  {
   "cell_type": "raw",
   "metadata": {},
   "source": [
    "Q11: Write an udf to calculate the area of different shapes\n",
    "\n",
    "Take shape and dimensions as arguments to udf as follows : \n",
    "\n",
    "1. square which has side\n",
    "2. rectangle which has length and width\n",
    "3. circle which has radius\n",
    "\n",
    "The shape should be a positional argument and it's dimensions are taken as kwargs\n",
    "\n",
    "Perform proper validation for the user inputs and then calculate area.\n",
    "\n",
    "E.g. if shape is square, ensure kwargs has \"side\" and if so, then you may return the area, else display appropriate error message like \"Please enter 'side' for a square\""
   ]
  },
  {
   "cell_type": "code",
   "execution_count": 13,
   "metadata": {},
   "outputs": [
    {
     "name": "stdout",
     "output_type": "stream",
     "text": [
      "Enter the shape: rectangle\n",
      "Enter the sides: \n",
      "5\n",
      "6\n",
      "Area =  30\n"
     ]
    }
   ],
   "source": [
    "l = []\n",
    "d =  {}\n",
    "\n",
    "shape = input(\"Enter the shape: \")\n",
    "if shape=='square':\n",
    "    side=int(input('Enter the side: '))\n",
    "    d[shape]=side   \n",
    "    \n",
    "elif shape=='rectangle':\n",
    "    print('Enter the sides: ')\n",
    "    for i in range(0,2):\n",
    "        ele=int(input())  \n",
    "        l.append(ele)\n",
    "    d[shape]=l   \n",
    "    \n",
    "elif shape=='circle':\n",
    "    print('Enter radius: ')\n",
    "    radius=int(input())  \n",
    "    d[shape]=radius   \n",
    "\n",
    "def area(shape, **kwargs):\n",
    "    area_sq=0\n",
    "    area_rect=0\n",
    "    area_cir=0\n",
    "    \n",
    "    if (shape == 'square'):\n",
    "        if shape in d.keys():\n",
    "            area_sq = d[shape]*d[shape]  \n",
    "            return area_sq\n",
    "        else:\n",
    "            print('please enter the side')\n",
    "    if (shape == 'rectangle'):\n",
    "        if shape in d.keys() and len(d[shape])==2:\n",
    "            area_rect = d[shape][0]*d[shape][1]\n",
    "            return area_rect\n",
    "        else:\n",
    "            print('Enter the len,breadth properly')\n",
    "    if (shape == 'circle'):\n",
    "        if shape in d.keys():\n",
    "            area_cir = 3.14*d[shape]*d[shape]\n",
    "            return area_cir\n",
    "        else:\n",
    "            print('Enter the radius')\n",
    "        \n",
    "ar = area(shape,**d)\n",
    "print('Area = ',ar)"
   ]
  },
  {
   "cell_type": "raw",
   "metadata": {},
   "source": [
    "Q12: Write a UDF to reconcile the values within two lists.\n",
    "    l1 = ['January', 'February', 'March', 'May', 'June', 'September', 'December']\n",
    "    l2 = ['January', 'February', 'April', 'June', 'October', 'December']\n",
    "\n",
    "Hint:\n",
    "-----\n",
    "def func(l1, l2):\n",
    "    your code here...\n",
    "    \n",
    "Output:\n",
    "{'Matched': ['January', 'February', 'June', 'December'],\n",
    "    'Only in l1': ['March', 'May', 'September'],\n",
    "        'Only in l2': ['April', 'October']}"
   ]
  },
  {
   "cell_type": "code",
   "execution_count": 1,
   "metadata": {},
   "outputs": [
    {
     "data": {
      "text/plain": [
       "{'Matched': ['June', 'January', 'February', 'December'],\n",
       " 'Only in l1': ['September', 'May', 'March'],\n",
       " 'Only in l2': ['April', 'October']}"
      ]
     },
     "execution_count": 1,
     "metadata": {},
     "output_type": "execute_result"
    }
   ],
   "source": [
    "l1 = ['January', 'February', 'March', 'May', 'June', 'September', 'December']\n",
    "l2 = ['January', 'February', 'April', 'June', 'October', 'December']\n",
    "\n",
    "s1 = set(l1)\n",
    "s2 = set(l2)\n",
    "\n",
    "def q12(s1,s2):\n",
    "    d ={}\n",
    "    \n",
    "    d['Matched']= list(s1.intersection(s2))\n",
    "    d['Only in l1']= list(s1.difference(s2))\n",
    "    d['Only in l2']= list(s2.difference(s1))\n",
    "    \n",
    "    return d\n",
    "\n",
    "q12(s1,s2)\n"
   ]
  },
  {
   "cell_type": "raw",
   "metadata": {
    "collapsed": true
   },
   "source": [
    "Q13: write a UDF to check if a number is prime or not."
   ]
  },
  {
   "cell_type": "code",
   "execution_count": 10,
   "metadata": {},
   "outputs": [
    {
     "name": "stdout",
     "output_type": "stream",
     "text": [
      "Enter a number:11\n",
      "Prime\n"
     ]
    }
   ],
   "source": [
    "num = int(input('Enter a number:'))\n",
    "\n",
    "def q13():\n",
    "    for i in range(2, num):\n",
    "        if (num%i) == 0:\n",
    "            print('Not Prime')\n",
    "            break\n",
    "            \n",
    "    else:\n",
    "        print('Prime')\n",
    "            \n",
    "q13()\n",
    "            "
   ]
  },
  {
   "cell_type": "raw",
   "metadata": {
    "collapsed": true
   },
   "source": [
    "Q14. Write a program which can compute the factorial of a given numbers. \n",
    "#   The results should be printed in a comma-separated sequence on a single line. \n",
    "# input() function can be used for getting user(console) input\n",
    "\n",
    "\n",
    "#Suppose the input is supplied to the program:  8  \n",
    "#Then, the output should be:  40320 \n",
    "#Hints: In case of input data being supplied to the question, it should be assumed to be a console input. \n"
   ]
  },
  {
   "cell_type": "code",
   "execution_count": 3,
   "metadata": {},
   "outputs": [
    {
     "name": "stdout",
     "output_type": "stream",
     "text": [
      "Enter the number8\n",
      "The factorial of 8 is: 40320\n"
     ]
    }
   ],
   "source": [
    "n = int(input('Enter the number'))\n",
    "\n",
    "fact = 1\n",
    "\n",
    "for i in range(1, n+1):\n",
    "    fact = fact * i\n",
    "    \n",
    "print('The factorial of', n, 'is:', fact)"
   ]
  },
  {
   "cell_type": "raw",
   "metadata": {
    "collapsed": true
   },
   "source": [
    "Q15. With a given integral number n, write a program to generate a dictionary that contains (i, i*i) such that is an integral number between 1 and n (both included). and then the program should print the dictionary.\n",
    "\n",
    "#Suppose the following input is supplied to the program: 8\n",
    "#Then, the output should be: {1: 1, 2: 4, 3: 9, 4: 16, 5: 25, 6: 36, 7: 49, 8: 64}\n",
    "#Hints: In case of input data being supplied to the question, it should be assumed to be a console input. Consider using dict()\n",
    "\n"
   ]
  },
  {
   "cell_type": "code",
   "execution_count": 5,
   "metadata": {},
   "outputs": [
    {
     "name": "stdout",
     "output_type": "stream",
     "text": [
      "Enter the integral:8\n",
      "{1: 1, 2: 4, 3: 9, 4: 16, 5: 25, 6: 36, 7: 49, 8: 64}\n"
     ]
    }
   ],
   "source": [
    "integral = int(input('Enter the integral:'))\n",
    "\n",
    "d ={}\n",
    "\n",
    "for i in range(1, integral+1):\n",
    "    d[i]= i*i\n",
    "    \n",
    "print(d)"
   ]
  },
  {
   "cell_type": "raw",
   "metadata": {
    "collapsed": true
   },
   "source": [
    "Q16. Write a program which accepts a sequence of comma-separated numbers from console and generate a list and a tuple which contains every number.\n",
    "#Suppose the following input is supplied to the program: 34,67,55,33,12,98\n",
    "    #Then, the output should be: ['34', '67', '55', '33', '12', '98'] ('34', '67', '55', '33', '12', '98')\n",
    "\n",
    "#Hints: In case of input data being supplied to the question, it should be assumed to be a console input. you may use tuple() method to convert list to tuple\n"
   ]
  },
  {
   "cell_type": "code",
   "execution_count": 7,
   "metadata": {},
   "outputs": [
    {
     "name": "stdout",
     "output_type": "stream",
     "text": [
      "Enter comma-seperated numbers:2,3,4,5,6\n",
      "['2', '3', '4', '5', '6']\n",
      "('2', '3', '4', '5', '6')\n"
     ]
    }
   ],
   "source": [
    "z = input(\"Enter comma-seperated numbers:\")\n",
    "\n",
    "li = z.split(\",\")\n",
    "\n",
    "t = tuple(li)\n",
    "print(li)\n",
    "print(t)"
   ]
  },
  {
   "cell_type": "raw",
   "metadata": {
    "collapsed": true
   },
   "source": [
    "Q17. Write a program that accepts a comma separated sequence of words as input and \n",
    "# prints the words in a comma-separated sequence after sorting them alphabetically.\n",
    "\n",
    "# Suppose the following input is supplied to the program: without,hello,bag,world\n",
    "# Then, the output should be: bag,hello,without,world\n",
    "\n",
    "#Hints: In case of input data being supplied to the question, it should be assumed to be a console input.\n"
   ]
  },
  {
   "cell_type": "code",
   "execution_count": 9,
   "metadata": {},
   "outputs": [
    {
     "name": "stdout",
     "output_type": "stream",
     "text": [
      "Enter words:without,hello,bag,world\n",
      "bag,hello,without,world\n"
     ]
    }
   ],
   "source": [
    "words = input(\"Enter words:\")\n",
    "\n",
    "l= words.split(\",\")\n",
    "l.sort()\n",
    "l\n",
    "print(\",\".join(l))"
   ]
  },
  {
   "cell_type": "raw",
   "metadata": {
    "collapsed": true
   },
   "source": [
    "Q18. Write a program that accepts a sequence of whitespace separated words \n",
    "# as input and prints the words after removing all duplicate words and sorting them alphanumerically.\n",
    "# Suppose the following input is supplied to the program: hello world and practice makes perfect and hello world again\n",
    "# Then, the output should be: again and hello makes perfect practice world\n",
    "\n",
    "#Hints: In case of input data being supplied to the question, it should be assumed to be a console input.\n",
    "#We use set container to remove duplicated data automatically and then use sorted() to sort the data.\n"
   ]
  },
  {
   "cell_type": "code",
   "execution_count": 8,
   "metadata": {},
   "outputs": [
    {
     "name": "stdout",
     "output_type": "stream",
     "text": [
      "Enter words:a s h i s h\n",
      "a h i s\n"
     ]
    }
   ],
   "source": [
    "words = input(\"Enter words:\")\n",
    "\n",
    "l1 = words.split(\" \")\n",
    "l1\n",
    "s1 = set(l1)\n",
    "\n",
    "print(' '.join(sorted(s1)))"
   ]
  },
  {
   "cell_type": "raw",
   "metadata": {
    "collapsed": true
   },
   "source": [
    "Q19. Write a program that accepts a sentence and calculate the number of upper case \n",
    "# letters and lower case letters.\n",
    "#Suppose the following input is supplied to the program: Hello world!\n",
    "#Then, the output should be: UPPER CASE 1 LOWER CASE 9\n",
    "\n",
    "#Hints: In case of input data being supplied to the question, it should be assumed to be a console input.\n"
   ]
  },
  {
   "cell_type": "code",
   "execution_count": 11,
   "metadata": {},
   "outputs": [
    {
     "name": "stdout",
     "output_type": "stream",
     "text": [
      "Enter a sentence:ASHISH kumar\n",
      "lower case: 5\n",
      "upper case: 6\n"
     ]
    }
   ],
   "source": [
    "sentence= input('Enter a sentence:')\n",
    "lower= 0\n",
    "upper= 0\n",
    "\n",
    "for i in sentence:\n",
    "    if i.islower():\n",
    "        lower= lower+1\n",
    "    if i.isupper():\n",
    "        upper= upper+1\n",
    "print('lower case:',lower)\n",
    "print('upper case:',upper)"
   ]
  },
  {
   "cell_type": "raw",
   "metadata": {
    "collapsed": true
   },
   "source": [
    "Q20. Write a program that takes a string and returns reversed string. i.e. if input is \"abcd123\" output should be \"321dcba\""
   ]
  },
  {
   "cell_type": "code",
   "execution_count": 15,
   "metadata": {},
   "outputs": [
    {
     "name": "stdout",
     "output_type": "stream",
     "text": [
      "Enter the string:abc123\n",
      "Reversed string: 321cba\n"
     ]
    }
   ],
   "source": [
    "str_1= input('Enter the string:')\n",
    "\n",
    "str_2= str_1[ : :-1]\n",
    "print('Reversed string:',str_2)"
   ]
  },
  {
   "cell_type": "code",
   "execution_count": null,
   "metadata": {},
   "outputs": [],
   "source": []
  }
 ],
 "metadata": {
  "kernelspec": {
   "display_name": "Python 3 (ipykernel)",
   "language": "python",
   "name": "python3"
  },
  "language_info": {
   "codemirror_mode": {
    "name": "ipython",
    "version": 3
   },
   "file_extension": ".py",
   "mimetype": "text/x-python",
   "name": "python",
   "nbconvert_exporter": "python",
   "pygments_lexer": "ipython3",
   "version": "3.9.13"
  },
  "varInspector": {
   "cols": {
    "lenName": 16,
    "lenType": 16,
    "lenVar": 40
   },
   "kernels_config": {
    "python": {
     "delete_cmd_postfix": "",
     "delete_cmd_prefix": "del ",
     "library": "var_list.py",
     "varRefreshCmd": "print(var_dic_list())"
    },
    "r": {
     "delete_cmd_postfix": ") ",
     "delete_cmd_prefix": "rm(",
     "library": "var_list.r",
     "varRefreshCmd": "cat(var_dic_list()) "
    }
   },
   "types_to_exclude": [
    "module",
    "function",
    "builtin_function_or_method",
    "instance",
    "_Feature"
   ],
   "window_display": false
  }
 },
 "nbformat": 4,
 "nbformat_minor": 2
}
